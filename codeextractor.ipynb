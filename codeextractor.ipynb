{
 "cells": [
  {
   "cell_type": "code",
   "execution_count": 57,
   "id": "f160673c",
   "metadata": {},
   "outputs": [],
   "source": [
    "import subprocess\n",
    "import os"
   ]
  },
  {
   "cell_type": "code",
   "execution_count": 58,
   "id": "dfff4adc",
   "metadata": {},
   "outputs": [],
   "source": [
    "repo_path   = \"./astropy\"       \n",
    "commit_sha  = \"a5917978be39d13cd90b517e1de4e7a539ffaa48\"       \n",
    "file_rel    = \"astropy/io/ascii/rst.py\" "
   ]
  },
  {
   "cell_type": "code",
   "execution_count": 59,
   "id": "56929088",
   "metadata": {},
   "outputs": [
    {
     "data": {
      "text/plain": [
       "CompletedProcess(args=['git', 'checkout', 'a5917978be39d13cd90b517e1de4e7a539ffaa48'], returncode=0)"
      ]
     },
     "execution_count": 59,
     "metadata": {},
     "output_type": "execute_result"
    }
   ],
   "source": [
    "subprocess.run(\n",
    "    [\"git\", \"checkout\", commit_sha],\n",
    "    cwd=repo_path,\n",
    "    check=True,            # raise if fails :contentReference[oaicite:0]{index=0}\n",
    ")"
   ]
  },
  {
   "cell_type": "code",
   "execution_count": 60,
   "id": "1f3d0703",
   "metadata": {},
   "outputs": [],
   "source": [
    "file_path = os.path.join(repo_path, file_rel)\n",
    "with open(file_path, \"r\") as f:\n",
    "    contents = f.read() "
   ]
  },
  {
   "cell_type": "code",
   "execution_count": 61,
   "id": "047c1950",
   "metadata": {},
   "outputs": [
    {
     "name": "stdout",
     "output_type": "stream",
     "text": [
      "# Licensed under a 3-clause BSD style license\n",
      "\"\"\"\n",
      ":Author: Simon Gibbons (simongibbons@gmail.com)\n",
      "\"\"\"\n",
      "\n",
      "\n",
      "from .core import DefaultSplitter\n",
      "from .fixedwidth import (\n",
      "    FixedWidth,\n",
      "    FixedWidthData,\n",
      "    FixedWidthHeader,\n",
      "    FixedWidthTwoLineDataSplitter,\n",
      ")\n",
      "\n",
      "\n",
      "class SimpleRSTHeader(FixedWidthHeader):\n",
      "    position_line = 0\n",
      "    start_line = 1\n",
      "    splitter_class = DefaultSplitter\n",
      "    position_char = \"=\"\n",
      "\n",
      "    def get_fixedwidth_params(self, line):\n",
      "        vals, starts, ends = super().get_fixedwidth_params(line)\n",
      "        # The right hand column can be unbounded\n",
      "        ends[-1] = None\n",
      "        return vals, starts, ends\n",
      "\n",
      "\n",
      "class SimpleRSTData(FixedWidthData):\n",
      "    start_line = 3\n",
      "    end_line = -1\n",
      "    splitter_class = FixedWidthTwoLineDataSplitter\n",
      "\n",
      "\n",
      "class RST(FixedWidth):\n",
      "    \"\"\"reStructuredText simple format table.\n",
      "\n",
      "    See: https://docutils.sourceforge.io/docs/ref/rst/restructuredtext.html#simple-tables\n",
      "\n",
      "    Example::\n",
      "\n",
      "        ==== ===== ======\n",
      "        Col1  Col2  Col3\n",
      "        ==== ===== ======\n",
      "          1    2.3  Hello\n",
      "          2    4.5  Worlds\n",
      "        ==== ===== ======\n",
      "\n",
      "    Currently there is no support for reading tables which utilize continuation lines,\n",
      "    or for ones which define column spans through the use of an additional\n",
      "    line of dashes in the header.\n",
      "\n",
      "    \"\"\"\n",
      "\n",
      "    _format_name = \"rst\"\n",
      "    _description = \"reStructuredText simple table\"\n",
      "    data_class = SimpleRSTData\n",
      "    header_class = SimpleRSTHeader\n",
      "\n",
      "    def __init__(self):\n",
      "        super().__init__(delimiter_pad=None, bookend=False)\n",
      "\n",
      "    def write(self, lines):\n",
      "        lines = super().write(lines)\n",
      "        lines = [lines[1]] + lines + [lines[1]]\n",
      "        return lines\n",
      "\n"
     ]
    }
   ],
   "source": [
    "print(contents)"
   ]
  },
  {
   "cell_type": "code",
   "execution_count": null,
   "id": "4303d362",
   "metadata": {},
   "outputs": [],
   "source": []
  },
  {
   "cell_type": "code",
   "execution_count": null,
   "id": "feeabb21",
   "metadata": {},
   "outputs": [
    {
     "name": "stderr",
     "output_type": "stream",
     "text": [
      "c:\\Users\\Nishant Pradhan\\anaconda3\\envs\\deeplearning\\Lib\\site-packages\\tqdm\\auto.py:21: TqdmWarning: IProgress not found. Please update jupyter and ipywidgets. See https://ipywidgets.readthedocs.io/en/stable/user_install.html\n",
      "  from .autonotebook import tqdm as notebook_tqdm\n"
     ]
    },
    {
     "ename": "ValueError",
     "evalue": "Column name ['hints'] not in the dataset. Current columns in the dataset: ['repo', 'instance_id', 'base_commit', 'patch', 'problem_statement', 'hints_text', 'created_at', 'version', 'FAIL_TO_PASS', 'PASS_TO_PASS', 'environment_setup_commit']",
     "output_type": "error",
     "traceback": [
      "\u001b[1;31m---------------------------------------------------------------------------\u001b[0m",
      "\u001b[1;31mValueError\u001b[0m                                Traceback (most recent call last)",
      "Cell \u001b[1;32mIn[2], line 5\u001b[0m\n\u001b[0;32m      3\u001b[0m dataset \u001b[38;5;241m=\u001b[39m load_dataset(\u001b[38;5;124m\"\u001b[39m\u001b[38;5;124mprinceton-nlp/SWE-bench_Lite\u001b[39m\u001b[38;5;124m\"\u001b[39m, split\u001b[38;5;241m=\u001b[39m\u001b[38;5;124m\"\u001b[39m\u001b[38;5;124mtest\u001b[39m\u001b[38;5;124m\"\u001b[39m)\n\u001b[0;32m      4\u001b[0m dataset \u001b[38;5;241m=\u001b[39m dataset\u001b[38;5;241m.\u001b[39mremove_columns(\u001b[38;5;124m\"\u001b[39m\u001b[38;5;124mtest_patch\u001b[39m\u001b[38;5;124m\"\u001b[39m)\n\u001b[1;32m----> 5\u001b[0m dataset \u001b[38;5;241m=\u001b[39m \u001b[43mdataset\u001b[49m\u001b[38;5;241;43m.\u001b[39;49m\u001b[43mremove_columns\u001b[49m\u001b[43m(\u001b[49m\u001b[38;5;124;43m\"\u001b[39;49m\u001b[38;5;124;43mhints\u001b[39;49m\u001b[38;5;124;43m\"\u001b[39;49m\u001b[43m)\u001b[49m\n\u001b[0;32m      7\u001b[0m \u001b[38;5;28;01mfor\u001b[39;00m apple \u001b[38;5;129;01min\u001b[39;00m dataset :\n\u001b[0;32m      8\u001b[0m     \u001b[38;5;28mprint\u001b[39m(apple)\n",
      "File \u001b[1;32mc:\\Users\\Nishant Pradhan\\anaconda3\\envs\\deeplearning\\Lib\\site-packages\\datasets\\arrow_dataset.py:557\u001b[0m, in \u001b[0;36mtransmit_format.<locals>.wrapper\u001b[1;34m(*args, **kwargs)\u001b[0m\n\u001b[0;32m    550\u001b[0m self_format \u001b[38;5;241m=\u001b[39m {\n\u001b[0;32m    551\u001b[0m     \u001b[38;5;124m\"\u001b[39m\u001b[38;5;124mtype\u001b[39m\u001b[38;5;124m\"\u001b[39m: \u001b[38;5;28mself\u001b[39m\u001b[38;5;241m.\u001b[39m_format_type,\n\u001b[0;32m    552\u001b[0m     \u001b[38;5;124m\"\u001b[39m\u001b[38;5;124mformat_kwargs\u001b[39m\u001b[38;5;124m\"\u001b[39m: \u001b[38;5;28mself\u001b[39m\u001b[38;5;241m.\u001b[39m_format_kwargs,\n\u001b[0;32m    553\u001b[0m     \u001b[38;5;124m\"\u001b[39m\u001b[38;5;124mcolumns\u001b[39m\u001b[38;5;124m\"\u001b[39m: \u001b[38;5;28mself\u001b[39m\u001b[38;5;241m.\u001b[39m_format_columns,\n\u001b[0;32m    554\u001b[0m     \u001b[38;5;124m\"\u001b[39m\u001b[38;5;124moutput_all_columns\u001b[39m\u001b[38;5;124m\"\u001b[39m: \u001b[38;5;28mself\u001b[39m\u001b[38;5;241m.\u001b[39m_output_all_columns,\n\u001b[0;32m    555\u001b[0m }\n\u001b[0;32m    556\u001b[0m \u001b[38;5;66;03m# apply actual function\u001b[39;00m\n\u001b[1;32m--> 557\u001b[0m out: Union[\u001b[38;5;124m\"\u001b[39m\u001b[38;5;124mDataset\u001b[39m\u001b[38;5;124m\"\u001b[39m, \u001b[38;5;124m\"\u001b[39m\u001b[38;5;124mDatasetDict\u001b[39m\u001b[38;5;124m\"\u001b[39m] \u001b[38;5;241m=\u001b[39m \u001b[43mfunc\u001b[49m\u001b[43m(\u001b[49m\u001b[38;5;28;43mself\u001b[39;49m\u001b[43m,\u001b[49m\u001b[43m \u001b[49m\u001b[38;5;241;43m*\u001b[39;49m\u001b[43margs\u001b[49m\u001b[43m,\u001b[49m\u001b[43m \u001b[49m\u001b[38;5;241;43m*\u001b[39;49m\u001b[38;5;241;43m*\u001b[39;49m\u001b[43mkwargs\u001b[49m\u001b[43m)\u001b[49m\n\u001b[0;32m    558\u001b[0m datasets: \u001b[38;5;28mlist\u001b[39m[\u001b[38;5;124m\"\u001b[39m\u001b[38;5;124mDataset\u001b[39m\u001b[38;5;124m\"\u001b[39m] \u001b[38;5;241m=\u001b[39m \u001b[38;5;28mlist\u001b[39m(out\u001b[38;5;241m.\u001b[39mvalues()) \u001b[38;5;28;01mif\u001b[39;00m \u001b[38;5;28misinstance\u001b[39m(out, \u001b[38;5;28mdict\u001b[39m) \u001b[38;5;28;01melse\u001b[39;00m [out]\n\u001b[0;32m    559\u001b[0m \u001b[38;5;66;03m# re-apply format to the output\u001b[39;00m\n",
      "File \u001b[1;32mc:\\Users\\Nishant Pradhan\\anaconda3\\envs\\deeplearning\\Lib\\site-packages\\datasets\\fingerprint.py:442\u001b[0m, in \u001b[0;36mfingerprint_transform.<locals>._fingerprint.<locals>.wrapper\u001b[1;34m(*args, **kwargs)\u001b[0m\n\u001b[0;32m    438\u001b[0m             validate_fingerprint(kwargs[fingerprint_name])\n\u001b[0;32m    440\u001b[0m \u001b[38;5;66;03m# Call actual function\u001b[39;00m\n\u001b[1;32m--> 442\u001b[0m out \u001b[38;5;241m=\u001b[39m \u001b[43mfunc\u001b[49m\u001b[43m(\u001b[49m\u001b[43mdataset\u001b[49m\u001b[43m,\u001b[49m\u001b[43m \u001b[49m\u001b[38;5;241;43m*\u001b[39;49m\u001b[43margs\u001b[49m\u001b[43m,\u001b[49m\u001b[43m \u001b[49m\u001b[38;5;241;43m*\u001b[39;49m\u001b[38;5;241;43m*\u001b[39;49m\u001b[43mkwargs\u001b[49m\u001b[43m)\u001b[49m\n\u001b[0;32m    444\u001b[0m \u001b[38;5;66;03m# Update fingerprint of in-place transforms + update in-place history of transforms\u001b[39;00m\n\u001b[0;32m    446\u001b[0m \u001b[38;5;28;01mif\u001b[39;00m inplace:  \u001b[38;5;66;03m# update after calling func so that the fingerprint doesn't change if the function fails\u001b[39;00m\n",
      "File \u001b[1;32mc:\\Users\\Nishant Pradhan\\anaconda3\\envs\\deeplearning\\Lib\\site-packages\\datasets\\arrow_dataset.py:2161\u001b[0m, in \u001b[0;36mDataset.remove_columns\u001b[1;34m(self, column_names, new_fingerprint)\u001b[0m\n\u001b[0;32m   2159\u001b[0m missing_columns \u001b[38;5;241m=\u001b[39m \u001b[38;5;28mset\u001b[39m(column_names) \u001b[38;5;241m-\u001b[39m \u001b[38;5;28mset\u001b[39m(\u001b[38;5;28mself\u001b[39m\u001b[38;5;241m.\u001b[39m_data\u001b[38;5;241m.\u001b[39mcolumn_names)\n\u001b[0;32m   2160\u001b[0m \u001b[38;5;28;01mif\u001b[39;00m missing_columns:\n\u001b[1;32m-> 2161\u001b[0m     \u001b[38;5;28;01mraise\u001b[39;00m \u001b[38;5;167;01mValueError\u001b[39;00m(\n\u001b[0;32m   2162\u001b[0m         \u001b[38;5;124mf\u001b[39m\u001b[38;5;124m\"\u001b[39m\u001b[38;5;124mColumn name \u001b[39m\u001b[38;5;132;01m{\u001b[39;00m\u001b[38;5;28mlist\u001b[39m(missing_columns)\u001b[38;5;132;01m}\u001b[39;00m\u001b[38;5;124m not in the dataset. \u001b[39m\u001b[38;5;124m\"\u001b[39m\n\u001b[0;32m   2163\u001b[0m         \u001b[38;5;124mf\u001b[39m\u001b[38;5;124m\"\u001b[39m\u001b[38;5;124mCurrent columns in the dataset: \u001b[39m\u001b[38;5;132;01m{\u001b[39;00mdataset\u001b[38;5;241m.\u001b[39m_data\u001b[38;5;241m.\u001b[39mcolumn_names\u001b[38;5;132;01m}\u001b[39;00m\u001b[38;5;124m\"\u001b[39m\n\u001b[0;32m   2164\u001b[0m     )\n\u001b[0;32m   2166\u001b[0m \u001b[38;5;28;01mfor\u001b[39;00m column_name \u001b[38;5;129;01min\u001b[39;00m column_names:\n\u001b[0;32m   2167\u001b[0m     \u001b[38;5;28;01mdel\u001b[39;00m dataset\u001b[38;5;241m.\u001b[39m_info\u001b[38;5;241m.\u001b[39mfeatures[column_name]\n",
      "\u001b[1;31mValueError\u001b[0m: Column name ['hints'] not in the dataset. Current columns in the dataset: ['repo', 'instance_id', 'base_commit', 'patch', 'problem_statement', 'hints_text', 'created_at', 'version', 'FAIL_TO_PASS', 'PASS_TO_PASS', 'environment_setup_commit']"
     ]
    }
   ],
   "source": [
    "from datasets import load_dataset\n",
    "\n",
    "dataset = load_dataset(\"princeton-nlp/SWE-bench_Lite\", split=\"test\")\n",
    "dataset = dataset.remove_columns(\"test_patch\")\n",
    "dataset = dataset.remove_columns('hints_text')\n",
    "\n",
    "for apple in dataset :\n",
    "    print(apple)"
   ]
  }
 ],
 "metadata": {
  "kernelspec": {
   "display_name": "deeplearning",
   "language": "python",
   "name": "python3"
  },
  "language_info": {
   "codemirror_mode": {
    "name": "ipython",
    "version": 3
   },
   "file_extension": ".py",
   "mimetype": "text/x-python",
   "name": "python",
   "nbconvert_exporter": "python",
   "pygments_lexer": "ipython3",
   "version": "3.12.9"
  }
 },
 "nbformat": 4,
 "nbformat_minor": 5
}
